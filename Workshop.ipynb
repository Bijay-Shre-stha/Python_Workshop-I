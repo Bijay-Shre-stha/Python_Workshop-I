{
 "cells": [
  {
   "cell_type": "code",
   "execution_count": 1,
   "metadata": {},
   "outputs": [
    {
     "name": "stdout",
     "output_type": "stream",
     "text": [
      "Hello world\n"
     ]
    }
   ],
   "source": [
    "print(\"Hello world\")\n"
   ]
  },
  {
   "cell_type": "code",
   "execution_count": 2,
   "metadata": {},
   "outputs": [
    {
     "name": "stdout",
     "output_type": "stream",
     "text": [
      "New cell running\n"
     ]
    }
   ],
   "source": [
    "print(\"New cell running\")"
   ]
  },
  {
   "cell_type": "code",
   "execution_count": 5,
   "metadata": {},
   "outputs": [
    {
     "name": "stdout",
     "output_type": "stream",
     "text": [
      "20\n",
      "Bijay shrestha\n"
     ]
    }
   ],
   "source": [
    "test =20\n",
    "print(test)\n",
    "test =\"Bijay shrestha\"\n",
    "print(test)"
   ]
  },
  {
   "cell_type": "code",
   "execution_count": 6,
   "metadata": {},
   "outputs": [
    {
     "data": {
      "text/plain": [
       "'5'"
      ]
     },
     "execution_count": 6,
     "metadata": {},
     "output_type": "execute_result"
    }
   ],
   "source": [
    "input(\"Enter the number:\")"
   ]
  },
  {
   "cell_type": "code",
   "execution_count": null,
   "metadata": {},
   "outputs": [],
   "source": [
    "print(f\"My name is\")"
   ]
  },
  {
   "cell_type": "code",
   "execution_count": 7,
   "metadata": {},
   "outputs": [
    {
     "name": "stdout",
     "output_type": "stream",
     "text": [
      "Your age is 19\n"
     ]
    }
   ],
   "source": [
    "age = input(\"Enter your age:\")\n",
    "print(\"Your age is\", age)"
   ]
  },
  {
   "cell_type": "code",
   "execution_count": 8,
   "metadata": {},
   "outputs": [
    {
     "name": "stdout",
     "output_type": "stream",
     "text": [
      "0.5\n"
     ]
    }
   ],
   "source": [
    "print(1/2)\n"
   ]
  },
  {
   "cell_type": "code",
   "execution_count": 9,
   "metadata": {},
   "outputs": [
    {
     "name": "stdout",
     "output_type": "stream",
     "text": [
      "Hello, my name is Bijay Shrestha and I am 19 years old.\n"
     ]
    }
   ],
   "source": [
    "name = input(\"your name?\")\n",
    "age = input(\"Your age\")\n",
    "print(\"Hello, my name is\", name, \"and I am\", age, \"years old.\")"
   ]
  },
  {
   "cell_type": "code",
   "execution_count": 10,
   "metadata": {},
   "outputs": [
    {
     "name": "stdout",
     "output_type": "stream",
     "text": [
      "<class 'str'>\n"
     ]
    }
   ],
   "source": [
    "print(type(age))"
   ]
  },
  {
   "cell_type": "code",
   "execution_count": 11,
   "metadata": {},
   "outputs": [
    {
     "name": "stdout",
     "output_type": "stream",
     "text": [
      "<class 'int'>\n"
     ]
    }
   ],
   "source": [
    "age =2\n",
    "print(type(age))"
   ]
  },
  {
   "cell_type": "code",
   "execution_count": 13,
   "metadata": {},
   "outputs": [
    {
     "name": "stdout",
     "output_type": "stream",
     "text": [
      "17\n",
      "Your age is 15\n"
     ]
    }
   ],
   "source": [
    "age =input(\"Enter your age\")\n",
    "age = int(age)\n",
    "print(age+2)\n",
    "\n",
    "ageString= str(age)\n",
    "print(\"Your age is \"+ageString)\n"
   ]
  },
  {
   "cell_type": "code",
   "execution_count": 1,
   "metadata": {},
   "outputs": [
    {
     "name": "stdout",
     "output_type": "stream",
     "text": [
      "False\n",
      "True\n",
      "True\n",
      "False\n"
     ]
    }
   ],
   "source": [
    "print(5>9)\n",
    "print(5==5)\n",
    "print(5<=9)\n",
    "print(5!=5)"
   ]
  },
  {
   "cell_type": "code",
   "execution_count": 16,
   "metadata": {},
   "outputs": [
    {
     "name": "stdout",
     "output_type": "stream",
     "text": [
      "False\n"
     ]
    }
   ],
   "source": [
    "age = input(\"Enter your age\")\n",
    "age= int(age)\n",
    "over_18=age>18\n",
    "print(over_18)"
   ]
  },
  {
   "cell_type": "code",
   "execution_count": 17,
   "metadata": {},
   "outputs": [
    {
     "name": "stdout",
     "output_type": "stream",
     "text": [
      "You are not allowed to drink\n"
     ]
    }
   ],
   "source": [
    "age= input(\"Enter your age\")\n",
    "age = int (age)\n",
    "drinkingAge = age>=18\n",
    "if drinkingAge:\n",
    "    print(\"You are allowed to drink\")\n",
    "else:\n",
    "    print(\"You are not allowed to drink\")\n"
   ]
  },
  {
   "cell_type": "code",
   "execution_count": 19,
   "metadata": {},
   "outputs": [
    {
     "name": "stdout",
     "output_type": "stream",
     "text": [
      "You are allowed to drink but careful\n"
     ]
    }
   ],
   "source": [
    "age= input(\"Enter your age\")\n",
    "age = int (age)\n",
    "if age>18:\n",
    "    print(\"You are allowed to drink\")\n",
    "elif age>=18:\n",
    "    print(\"You are allowed to drink but careful\")\n",
    "else:\n",
    "    print(\"You are not allowed to drink\")    "
   ]
  },
  {
   "cell_type": "code",
   "execution_count": 29,
   "metadata": {},
   "outputs": [
    {
     "name": "stdout",
     "output_type": "stream",
     "text": [
      "You are 5 years old\n"
     ]
    }
   ],
   "source": [
    "\n",
    "for age in range(11):\n",
    "    if(age == 5):\n",
    "        print(f\"You are {age} years old\")\n",
    "        "
   ]
  },
  {
   "cell_type": "code",
   "execution_count": 4,
   "metadata": {},
   "outputs": [
    {
     "name": "stdout",
     "output_type": "stream",
     "text": [
      "bijay\n",
      "Hello bijay\n",
      "Raul\n",
      "sameer\n",
      "Adhit\n"
     ]
    }
   ],
   "source": [
    "nameList=[\"bijay\", \"Raul\",  \"sameer\", \"Adhit\"]\n",
    "for name in nameList:\n",
    "    print(name)\n",
    "    if (name==\"bijay\"):\n",
    "        print(\"Hello bijay\")"
   ]
  },
  {
   "cell_type": "code",
   "execution_count": 10,
   "metadata": {},
   "outputs": [
    {
     "name": "stdout",
     "output_type": "stream",
     "text": [
      "Bijay shrestha\n"
     ]
    }
   ],
   "source": [
    "myDict={\"name\":\"Bijay shrestha\", \"age\":19}\n",
    "print(myDict[\"name\"])"
   ]
  },
  {
   "cell_type": "code",
   "execution_count": 13,
   "metadata": {},
   "outputs": [
    {
     "name": "stdout",
     "output_type": "stream",
     "text": [
      "{'name': 'Bijay shrestha', 'age': 15}\n"
     ]
    }
   ],
   "source": [
    "myDict2={\"name\":\"Bijay shrestha\", \"age\":19}\n",
    "age = int(input(\"Enter your age\"))\n",
    "myDict2[\"age\"]=age\n",
    "print(myDict2)"
   ]
  },
  {
   "cell_type": "code",
   "execution_count": 30,
   "metadata": {},
   "outputs": [
    {
     "name": "stdout",
     "output_type": "stream",
     "text": [
      "{'name': 'Bijay', 'age': 19}\n",
      "Hello Bijay You are eligible to drink\n"
     ]
    }
   ],
   "source": [
    "myDict3={\"name\":0, \"age\":0}\n",
    "name=input(\"Enter your name\")\n",
    "age=int(input(\"Enter your age\"))\n",
    "myDict3[\"name\"]=name\n",
    "myDict3[\"age\"]=age\n",
    "print(myDict3)\n",
    "if(age>=18):\n",
    "    print(f\"Hello\",name ,\"You are eligible to drink\")\n",
    "else:\n",
    "    print(f\"Hello\",name ,\"You are not eligible to drink\")"
   ]
  },
  {
   "cell_type": "code",
   "execution_count": 35,
   "metadata": {},
   "outputs": [
    {
     "name": "stdout",
     "output_type": "stream",
     "text": [
      "Bijay\n",
      "19\n"
     ]
    }
   ],
   "source": [
    "# array\n",
    "for key, value in myDict3.items():\n",
    "    # print(key)\n",
    "    # print(value)\n",
    "    print(myDict3[key])\n",
    "    "
   ]
  },
  {
   "cell_type": "code",
   "execution_count": 3,
   "metadata": {},
   "outputs": [
    {
     "name": "stdout",
     "output_type": "stream",
     "text": [
      "The marks of java is 20\n",
      "The marks of maths is 30\n"
     ]
    }
   ],
   "source": [
    "marks ={\"java\":20 ,\"maths\":30}\n",
    "for key, value in marks.items():\n",
    "    print(f\"The marks of {key} is {value}\")\n",
    "\n",
    "\n"
   ]
  },
  {
   "cell_type": "code",
   "execution_count": 7,
   "metadata": {},
   "outputs": [
    {
     "name": "stdout",
     "output_type": "stream",
     "text": [
      "Hi Rahul, you are 15 years old, you can't drink!\n"
     ]
    }
   ],
   "source": [
    "def cal_drinking_or_not():\n",
    "    name = input(\"Enter your name: \")\n",
    "    age = int(input(\"Enter your age: \"))\n",
    "    if age >= 18:\n",
    "        print(\"Hi %s, you are %d years old, you can drink!\" % (name, age))\n",
    "    else:\n",
    "        print(\"Hi %s, you are %d years old, you can't drink!\" % (name, age))\n",
    "\n",
    "cal_drinking_or_not()\n"
   ]
  }
 ],
 "metadata": {
  "kernelspec": {
   "display_name": "Python 3",
   "language": "python",
   "name": "python3"
  },
  "language_info": {
   "codemirror_mode": {
    "name": "ipython",
    "version": 3
   },
   "file_extension": ".py",
   "mimetype": "text/x-python",
   "name": "python",
   "nbconvert_exporter": "python",
   "pygments_lexer": "ipython3",
   "version": "3.11.4"
  },
  "orig_nbformat": 4
 },
 "nbformat": 4,
 "nbformat_minor": 2
}
